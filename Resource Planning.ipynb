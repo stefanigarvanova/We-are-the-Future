{
 "cells": [
  {
   "cell_type": "markdown",
   "metadata": {},
   "source": [
    "# 1. Import Libraries"
   ]
  },
  {
   "cell_type": "code",
   "execution_count": 1,
   "metadata": {},
   "outputs": [],
   "source": [
    "import numpy as np\n",
    "import pandas as pd\n",
    "from mlxtend.preprocessing import TransactionEncoder\n",
    "from mlxtend.frequent_patterns import apriori\n",
    "from mlxtend.frequent_patterns import association_rules\n",
    "import matplotlib.pyplot as plt"
   ]
  },
  {
   "cell_type": "markdown",
   "metadata": {},
   "source": [
    "# 2. Source & Store"
   ]
  },
  {
   "cell_type": "code",
   "execution_count": 2,
   "metadata": {},
   "outputs": [
    {
     "data": {
      "text/html": [
       "<div>\n",
       "<style scoped>\n",
       "    .dataframe tbody tr th:only-of-type {\n",
       "        vertical-align: middle;\n",
       "    }\n",
       "\n",
       "    .dataframe tbody tr th {\n",
       "        vertical-align: top;\n",
       "    }\n",
       "\n",
       "    .dataframe thead th {\n",
       "        text-align: right;\n",
       "    }\n",
       "</style>\n",
       "<table border=\"1\" class=\"dataframe\">\n",
       "  <thead>\n",
       "    <tr style=\"text-align: right;\">\n",
       "      <th></th>\n",
       "      <th>Name</th>\n",
       "      <th>Role</th>\n",
       "      <th>Years Experience</th>\n",
       "      <th>Certifications</th>\n",
       "      <th>Market knowledge</th>\n",
       "      <th>Regulatory knowledge</th>\n",
       "      <th>Audit knowledge</th>\n",
       "      <th>Organization knowledge</th>\n",
       "      <th>Systems Knowledge</th>\n",
       "      <th>Processes knowledge</th>\n",
       "      <th>Previous Audits</th>\n",
       "      <th>Unavailability</th>\n",
       "    </tr>\n",
       "  </thead>\n",
       "  <tbody>\n",
       "    <tr>\n",
       "      <th>0</th>\n",
       "      <td>Deidre</td>\n",
       "      <td>Supervisor</td>\n",
       "      <td>11</td>\n",
       "      <td>ACA</td>\n",
       "      <td>1</td>\n",
       "      <td>4</td>\n",
       "      <td>1</td>\n",
       "      <td>1</td>\n",
       "      <td>1</td>\n",
       "      <td>3</td>\n",
       "      <td>False</td>\n",
       "      <td>November</td>\n",
       "    </tr>\n",
       "    <tr>\n",
       "      <th>1</th>\n",
       "      <td>Karia</td>\n",
       "      <td>Head of Mission</td>\n",
       "      <td>19</td>\n",
       "      <td>ACA</td>\n",
       "      <td>4</td>\n",
       "      <td>4</td>\n",
       "      <td>4</td>\n",
       "      <td>2</td>\n",
       "      <td>1</td>\n",
       "      <td>1</td>\n",
       "      <td>True</td>\n",
       "      <td>January</td>\n",
       "    </tr>\n",
       "    <tr>\n",
       "      <th>2</th>\n",
       "      <td>Cornela</td>\n",
       "      <td>Supervisor</td>\n",
       "      <td>7</td>\n",
       "      <td>CQF</td>\n",
       "      <td>1</td>\n",
       "      <td>3</td>\n",
       "      <td>1</td>\n",
       "      <td>4</td>\n",
       "      <td>4</td>\n",
       "      <td>2</td>\n",
       "      <td>True</td>\n",
       "      <td>June</td>\n",
       "    </tr>\n",
       "    <tr>\n",
       "      <th>3</th>\n",
       "      <td>Giffard</td>\n",
       "      <td>Head of Mission</td>\n",
       "      <td>14</td>\n",
       "      <td>FRM</td>\n",
       "      <td>2</td>\n",
       "      <td>1</td>\n",
       "      <td>3</td>\n",
       "      <td>3</td>\n",
       "      <td>4</td>\n",
       "      <td>2</td>\n",
       "      <td>False</td>\n",
       "      <td>January</td>\n",
       "    </tr>\n",
       "    <tr>\n",
       "      <th>4</th>\n",
       "      <td>Lorry</td>\n",
       "      <td>Head of Mission</td>\n",
       "      <td>5</td>\n",
       "      <td>CQF</td>\n",
       "      <td>1</td>\n",
       "      <td>4</td>\n",
       "      <td>3</td>\n",
       "      <td>4</td>\n",
       "      <td>1</td>\n",
       "      <td>1</td>\n",
       "      <td>True</td>\n",
       "      <td>July</td>\n",
       "    </tr>\n",
       "  </tbody>\n",
       "</table>\n",
       "</div>"
      ],
      "text/plain": [
       "      Name             Role  Years Experience Certifications  \\\n",
       "0   Deidre       Supervisor                11            ACA   \n",
       "1    Karia  Head of Mission                19            ACA   \n",
       "2  Cornela       Supervisor                 7            CQF   \n",
       "3  Giffard  Head of Mission                14            FRM   \n",
       "4    Lorry  Head of Mission                 5            CQF   \n",
       "\n",
       "   Market knowledge  Regulatory knowledge  Audit knowledge  \\\n",
       "0                 1                     4                1   \n",
       "1                 4                     4                4   \n",
       "2                 1                     3                1   \n",
       "3                 2                     1                3   \n",
       "4                 1                     4                3   \n",
       "\n",
       "   Organization knowledge  Systems Knowledge  Processes knowledge  \\\n",
       "0                       1                  1                    3   \n",
       "1                       2                  1                    1   \n",
       "2                       4                  4                    2   \n",
       "3                       3                  4                    2   \n",
       "4                       4                  1                    1   \n",
       "\n",
       "   Previous Audits Unavailability  \n",
       "0            False       November  \n",
       "1             True        January  \n",
       "2             True           June  \n",
       "3            False        January  \n",
       "4             True           July  "
      ]
     },
     "execution_count": 2,
     "metadata": {},
     "output_type": "execute_result"
    }
   ],
   "source": [
    "# Import Supply data\n",
    "Supply = pd.read_csv(\"MOCK_SUPPLY.csv\")\n",
    "Supply.head()"
   ]
  },
  {
   "cell_type": "code",
   "execution_count": 16,
   "metadata": {},
   "outputs": [
    {
     "name": "stdout",
     "output_type": "stream",
     "text": [
      "   Assignment Name               Topic  Workload  Market Knowledge  \\\n",
      "9          Zontrax  Product Management       270                 4   \n",
      "27         Fixflex           Marketing       302                 2   \n",
      "28      Voltsillam            Training       212                 4   \n",
      "30      Y-Solowarm               Legal       420                 4   \n",
      "34           Otcom            Services       450                 4   \n",
      "\n",
      "    Regulatory knowledge  Audit knowldege  Organization knowledge  \\\n",
      "9                      3                4                       3   \n",
      "27                     3                3                       3   \n",
      "28                     4                2                       3   \n",
      "30                     4                1                       4   \n",
      "34                     4                3                       4   \n",
      "\n",
      "    System knowledge  Processes knowledge  Previous Audits Certifications  \\\n",
      "9                  1                    3            False          Other   \n",
      "27                 4                    2             True            FRM   \n",
      "28                 2                    3            False            ACA   \n",
      "30                 2                    1             True            CFA   \n",
      "34                 3                    1             True            CQF   \n",
      "\n",
      "               Role Date Required  \n",
      "9   Head of Mission      February  \n",
      "27  Head of Mission           May  \n",
      "28  Head of Mission         April  \n",
      "30  Head of Mission      February  \n",
      "34  Head of Mission     September  \n"
     ]
    }
   ],
   "source": [
    "# Import Demand data\n",
    "\n",
    "Demand = pd.read_csv(\"MOCK_DEMAND.csv\")\n",
    "Demand.head()"
   ]
  },
  {
   "cell_type": "code",
   "execution_count": 28,
   "metadata": {},
   "outputs": [
    {
     "name": "stdout",
     "output_type": "stream",
     "text": [
      "        Name             Role  Years Experience Certifications  \\\n",
      "0     Deidre       Supervisor                11            ACA   \n",
      "1      Karia  Head of Mission                19            ACA   \n",
      "4      Lorry  Head of Mission                 5            CQF   \n",
      "9    Georgie          Auditor                 8          Other   \n",
      "12      Faun          Auditor                11          Other   \n",
      "13    Carlie  Head of Mission                19            CFA   \n",
      "15      Roda  Head of Mission                 2          Other   \n",
      "16  Consuela  Head of Mission                10            ACA   \n",
      "23    Abramo          Auditor                13            ACA   \n",
      "37    Libbie       Supervisor                20            CFA   \n",
      "40  Germaine       Supervisor                 8          Other   \n",
      "43  Clemente       Supervisor                18            CQF   \n",
      "45      Fabe          Auditor                19            CQF   \n",
      "46     Dasha       Supervisor                17            CFA   \n",
      "47       Gus          Auditor                 3            FRM   \n",
      "\n",
      "    Market knowledge  Regulatory knowledge  Audit knowledge  \\\n",
      "0                  1                     4                1   \n",
      "1                  4                     4                4   \n",
      "4                  1                     4                3   \n",
      "9                  3                     4                3   \n",
      "12                 2                     4                2   \n",
      "13                 4                     4                4   \n",
      "15                 4                     4                1   \n",
      "16                 2                     4                1   \n",
      "23                 2                     4                2   \n",
      "37                 4                     4                3   \n",
      "40                 1                     4                1   \n",
      "43                 2                     4                3   \n",
      "45                 4                     4                4   \n",
      "46                 2                     4                4   \n",
      "47                 2                     4                4   \n",
      "\n",
      "    Organization knowledge  Systems Knowledge  Processes knowledge  \\\n",
      "0                        1                  1                    3   \n",
      "1                        2                  1                    1   \n",
      "4                        4                  1                    1   \n",
      "9                        4                  4                    2   \n",
      "12                       4                  3                    1   \n",
      "13                       2                  2                    2   \n",
      "15                       1                  1                    3   \n",
      "16                       1                  1                    1   \n",
      "23                       3                  3                    3   \n",
      "37                       3                  2                    2   \n",
      "40                       4                  4                    2   \n",
      "43                       4                  1                    3   \n",
      "45                       3                  4                    1   \n",
      "46                       3                  4                    4   \n",
      "47                       2                  1                    3   \n",
      "\n",
      "    Previous Audits Unavailability  \n",
      "0             False       November  \n",
      "1              True        January  \n",
      "4              True           July  \n",
      "9              True       November  \n",
      "12             True          April  \n",
      "13             True      September  \n",
      "15            False      September  \n",
      "16             True       December  \n",
      "23            False        January  \n",
      "37            False          March  \n",
      "40             True           July  \n",
      "43             True        January  \n",
      "45            False            May  \n",
      "46            False      September  \n",
      "47             True            May  \n"
     ]
    }
   ],
   "source": [
    "# Resources with Regulatory knowledge 3 and 4\n",
    "RegKnowledge_filt = Supply.loc[Supply['Regulatory knowledge'] > 3]\n",
    "print(RegKnowledge_filt)"
   ]
  },
  {
   "cell_type": "code",
   "execution_count": 29,
   "metadata": {},
   "outputs": [
    {
     "name": "stdout",
     "output_type": "stream",
     "text": [
      "15\n"
     ]
    }
   ],
   "source": [
    "Total = RegKnowledge_filt['Name'].count()\n",
    "print (Total)"
   ]
  },
  {
   "cell_type": "code",
   "execution_count": 59,
   "metadata": {},
   "outputs": [],
   "source": [
    "criteria_category = 'Regulatory knowledge'\n",
    "critera_cutoff = 3"
   ]
  },
  {
   "cell_type": "code",
   "execution_count": 60,
   "metadata": {},
   "outputs": [
    {
     "name": "stdout",
     "output_type": "stream",
     "text": [
      "   Assignment Name                     Topic  Workload  Market Knowledge  \\\n",
      "1            Zamit                     Legal       161                 1   \n",
      "13        Treeflex                     Sales       399                 4   \n",
      "15          Biodex                     Legal       231                 3   \n",
      "23          Zathin           Human Resources       458                 4   \n",
      "28      Voltsillam                  Training       212                 4   \n",
      "30      Y-Solowarm                     Legal       420                 4   \n",
      "32       Lotstring                Accounting       253                 4   \n",
      "34           Otcom                  Services       450                 4   \n",
      "37         Bitwolf      Business Development       486                 4   \n",
      "40            Span        Product Management       378                 1   \n",
      "48        Tres-Zap  Research and Development       428                 2   \n",
      "\n",
      "    Regulatory knowledge  Audit knowldege  Organization knowledge  \\\n",
      "1                      4                3                       3   \n",
      "13                     4                2                       1   \n",
      "15                     4                3                       3   \n",
      "23                     4                1                       2   \n",
      "28                     4                2                       3   \n",
      "30                     4                1                       4   \n",
      "32                     4                2                       1   \n",
      "34                     4                3                       4   \n",
      "37                     4                4                       2   \n",
      "40                     4                3                       2   \n",
      "48                     4                3                       3   \n",
      "\n",
      "    System knowledge  Processes knowledge  Previous Audits Certifications  \\\n",
      "1                  1                    2            False            CFA   \n",
      "13                 2                    2             True            CQF   \n",
      "15                 4                    3             True            FRM   \n",
      "23                 3                    1            False            CQF   \n",
      "28                 2                    3            False            ACA   \n",
      "30                 2                    1             True            CFA   \n",
      "32                 3                    2             True            FRM   \n",
      "34                 3                    1             True            CQF   \n",
      "37                 2                    3             True            CQF   \n",
      "40                 4                    2            False            ACA   \n",
      "48                 2                    2             True            FRM   \n",
      "\n",
      "               Role Date Required  \n",
      "1        Supervisor      February  \n",
      "13          Auditor         April  \n",
      "15          Auditor         March  \n",
      "23       Supervisor          July  \n",
      "28  Head of Mission         April  \n",
      "30  Head of Mission      February  \n",
      "32          Auditor           May  \n",
      "34  Head of Mission     September  \n",
      "37       Supervisor     September  \n",
      "40       Supervisor           May  \n",
      "48       Supervisor          July  \n"
     ]
    }
   ],
   "source": [
    "# missions required regulatory knowledge\n",
    "Missions_RegulatoryKnowledge = Demand.loc[Demand[criteria_category] > critera_cutoff]\n",
    "print(Missions_RegulatoryKnowledge)"
   ]
  },
  {
   "cell_type": "code",
   "execution_count": 61,
   "metadata": {},
   "outputs": [
    {
     "name": "stdout",
     "output_type": "stream",
     "text": [
      "Unavailability\n",
      "April        1\n",
      "December     1\n",
      "January      3\n",
      "July         2\n",
      "March        1\n",
      "May          2\n",
      "November     2\n",
      "September    3\n",
      "Name: Name, dtype: int64\n"
     ]
    }
   ],
   "source": [
    "# Grouping  Supply \n",
    "supply_group = RegKnowledge_filt.groupby('Unavailability').count()\n",
    "print(supply_group['Name'])"
   ]
  },
  {
   "cell_type": "code",
   "execution_count": 58,
   "metadata": {},
   "outputs": [
    {
     "name": "stdout",
     "output_type": "stream",
     "text": [
      "Unavailability\n",
      "April        14\n",
      "December     14\n",
      "January      12\n",
      "July         13\n",
      "March        14\n",
      "May          13\n",
      "November     13\n",
      "September    12\n",
      "Name: Name, dtype: int64\n"
     ]
    }
   ],
   "source": [
    "# Total by month\n",
    "Total_by_month = (Total - supply_group)\n",
    "print (Total_by_month['Name'])"
   ]
  },
  {
   "cell_type": "code",
   "execution_count": 38,
   "metadata": {},
   "outputs": [
    {
     "name": "stdout",
     "output_type": "stream",
     "text": [
      "   Assignment Name                     Topic  Workload  Market Knowledge  \\\n",
      "1            Zamit                     Legal       161                 1   \n",
      "13        Treeflex                     Sales       399                 4   \n",
      "15          Biodex                     Legal       231                 3   \n",
      "23          Zathin           Human Resources       458                 4   \n",
      "28      Voltsillam                  Training       212                 4   \n",
      "30      Y-Solowarm                     Legal       420                 4   \n",
      "32       Lotstring                Accounting       253                 4   \n",
      "34           Otcom                  Services       450                 4   \n",
      "37         Bitwolf      Business Development       486                 4   \n",
      "40            Span        Product Management       378                 1   \n",
      "48        Tres-Zap  Research and Development       428                 2   \n",
      "\n",
      "    Regulatory knowledge  Audit knowldege  Organization knowledge  \\\n",
      "1                      4                3                       3   \n",
      "13                     4                2                       1   \n",
      "15                     4                3                       3   \n",
      "23                     4                1                       2   \n",
      "28                     4                2                       3   \n",
      "30                     4                1                       4   \n",
      "32                     4                2                       1   \n",
      "34                     4                3                       4   \n",
      "37                     4                4                       2   \n",
      "40                     4                3                       2   \n",
      "48                     4                3                       3   \n",
      "\n",
      "    System knowledge  Processes knowledge  Previous Audits Certifications  \\\n",
      "1                  1                    2            False            CFA   \n",
      "13                 2                    2             True            CQF   \n",
      "15                 4                    3             True            FRM   \n",
      "23                 3                    1            False            CQF   \n",
      "28                 2                    3            False            ACA   \n",
      "30                 2                    1             True            CFA   \n",
      "32                 3                    2             True            FRM   \n",
      "34                 3                    1             True            CQF   \n",
      "37                 2                    3             True            CQF   \n",
      "40                 4                    2            False            ACA   \n",
      "48                 2                    2             True            FRM   \n",
      "\n",
      "               Role Date Required  \n",
      "1        Supervisor      February  \n",
      "13          Auditor         April  \n",
      "15          Auditor         March  \n",
      "23       Supervisor          July  \n",
      "28  Head of Mission         April  \n",
      "30  Head of Mission      February  \n",
      "32          Auditor           May  \n",
      "34  Head of Mission     September  \n",
      "37       Supervisor     September  \n",
      "40       Supervisor           May  \n",
      "48       Supervisor          July  \n"
     ]
    }
   ],
   "source": [
    "# Return missions where Regulatory knowledge requirement = 4 (Missions requiring regulatory expertise)\n",
    "\n",
    "RegKnowledgeDmd_filt = Demand.loc[Demand['Regulatory knowledge'] > 3]\n",
    "        \n",
    "print(RegKnowledgeDmd_filt)"
   ]
  },
  {
   "cell_type": "code",
   "execution_count": 39,
   "metadata": {},
   "outputs": [
    {
     "name": "stdout",
     "output_type": "stream",
     "text": [
      "Date Required\n",
      "April        2\n",
      "February     2\n",
      "July         2\n",
      "March        1\n",
      "May          2\n",
      "September    2\n",
      "Name: Regulatory knowledge, dtype: int64\n"
     ]
    }
   ],
   "source": [
    "# Using the filtered table, group regulatory expert requirement by month\n",
    "\n",
    "Grouping = RegKnowledgeDmd_filt.groupby(\"Date Required\").count()\n",
    "print(Grouping[\"Regulatory knowledge\"])"
   ]
  },
  {
   "cell_type": "code",
   "execution_count": null,
   "metadata": {},
   "outputs": [],
   "source": []
  }
 ],
 "metadata": {
  "kernelspec": {
   "display_name": "Python 3",
   "language": "python",
   "name": "python3"
  },
  "language_info": {
   "codemirror_mode": {
    "name": "ipython",
    "version": 3
   },
   "file_extension": ".py",
   "mimetype": "text/x-python",
   "name": "python",
   "nbconvert_exporter": "python",
   "pygments_lexer": "ipython3",
   "version": "3.6.4"
  }
 },
 "nbformat": 4,
 "nbformat_minor": 2
}
